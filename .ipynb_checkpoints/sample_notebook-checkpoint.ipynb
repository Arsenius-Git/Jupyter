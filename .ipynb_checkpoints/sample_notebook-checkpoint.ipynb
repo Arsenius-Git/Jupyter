{
 "cells": [
  {
   "cell_type": "code",
   "execution_count": 6,
   "id": "6815c13f-4587-48f4-9e56-fa8b1fd77626",
   "metadata": {},
   "outputs": [],
   "source": [
    "name = 'niga'"
   ]
  },
  {
   "cell_type": "code",
   "execution_count": 7,
   "id": "728e6a69-d658-414d-aed3-046a59c8652b",
   "metadata": {},
   "outputs": [
    {
     "name": "stdout",
     "output_type": "stream",
     "text": [
      "hello! niga\n"
     ]
    }
   ],
   "source": [
    "print(f'hello!', name)"
   ]
  },
  {
   "cell_type": "code",
   "execution_count": null,
   "id": "41c869e3-0bd8-4968-a546-6279d0dd48c8",
   "metadata": {},
   "outputs": [],
   "source": []
  }
 ],
 "metadata": {
  "kernelspec": {
   "display_name": "Python 3 (ipykernel)",
   "language": "python",
   "name": "python3"
  },
  "language_info": {
   "codemirror_mode": {
    "name": "ipython",
    "version": 3
   },
   "file_extension": ".py",
   "mimetype": "text/x-python",
   "name": "python",
   "nbconvert_exporter": "python",
   "pygments_lexer": "ipython3",
   "version": "3.12.0"
  }
 },
 "nbformat": 4,
 "nbformat_minor": 5
}
